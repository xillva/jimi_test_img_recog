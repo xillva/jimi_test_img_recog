{
 "cells": [
  {
   "cell_type": "code",
   "execution_count": 3,
   "metadata": {},
   "outputs": [
    {
     "name": "stdout",
     "output_type": "stream",
     "text": [
      "3.9.16 (main, Jan 11 2023, 16:16:36) [MSC v.1916 64 bit (AMD64)]\n",
      "Epoch 1/3\n",
      "1875/1875 - 10s - loss: 0.8314 - accuracy: 0.7443 - val_loss: 0.6195 - val_accuracy: 0.8258 - 10s/epoch - 5ms/step\n",
      "Epoch 2/3\n",
      "1875/1875 - 9s - loss: 0.5252 - accuracy: 0.8523 - val_loss: 0.4431 - val_accuracy: 0.8773 - 9s/epoch - 5ms/step\n",
      "Epoch 3/3\n",
      "1875/1875 - 8s - loss: 0.3926 - accuracy: 0.8898 - val_loss: 0.3405 - val_accuracy: 0.9035 - 8s/epoch - 4ms/step\n"
     ]
    },
    {
     "data": {
      "image/png": "[encoded data removed]",
      "text/plain": [
       "<Figure size 640x480 with 1 Axes>"
      ]
     },
     "metadata": {},
     "output_type": "display_data"
    }
   ],
   "source": [
    "from keras.datasets import mnist\n",
    "import matplotlib.pyplot as plt\n",
    "import sys\n",
    "import numpy as np\n",
    "from keras.models import Sequential\n",
    "from keras.layers import Dense, Dropout, Flatten\n",
    "from keras.layers.convolutional import Conv2D, MaxPooling2D\n",
    "from keras.utils import np_utils\n",
    "from keras import backend as K \n",
    "\n",
    "\n",
    "print(sys.version)\n",
    "\n",
    "(X_train, y_train), (X_test, y_test) = mnist.load_data()\n",
    "\n",
    "plt.subplot(221)\n",
    "plt.imshow(X_train[0], cmap=\"gray\")\n",
    "\n",
    "K.set_image_data_format(\"channels_first\")\n",
    "seed = 7\n",
    "np.random.seed(seed)\n",
    "\n",
    "X_train = X_train.reshape(X_train.shape[0], 1, 28, 28).astype(\"float32\")\n",
    "X_test = X_test.reshape(X_test.shape[0], 1, 28, 28).astype(\"float32\")\n",
    "\n",
    "X_train = X_train / 255\n",
    "X_test = X_test / 255 \n",
    "\n",
    "y_train = np_utils.to_categorical(y_train)\n",
    "y_test = np_utils.to_categorical(y_test)\n",
    "\n",
    "num_classes = y_train.shape[1]\n",
    "\n",
    "def baseline_model():\n",
    "    model = Sequential()\n",
    "    model.add(Conv2D(8, (3,3), input_shape = (1,28,28), activation=\"relu\"))\n",
    "    model.add(MaxPooling2D(pool_size=(2,2)))\n",
    "    \n",
    "    model.add(Flatten())\n",
    "    model.add(Dense(4, activation=\"relu\"))\n",
    "    model.add(Dense(num_classes, activation=\"softmax\"))\n",
    "    \n",
    "    model.compile(loss=\"categorical_crossentropy\", optimizer=\"adam\", metrics=['accuracy'])\n",
    "    \n",
    "    return model\n",
    "\n",
    "model = baseline_model()\n",
    "model.fit(X_train, y_train, validation_data=(X_train, y_train), epochs=3, batch_size=32, verbose=2)\n",
    "\n",
    "model.save('model.h5')\n",
    "\n",
    "scores = model.evaluate(X_test, y_test, verbose=0)\n",
    "\n",
    "              \n"
   ]
  },
  {
   "cell_type": "code",
   "execution_count": 12,
   "metadata": {},
   "outputs": [
    {
     "name": "stdout",
     "output_type": "stream",
     "text": [
      "CNN error: 6.39\n"
     ]
    }
   ],
   "source": [
    "print(\"CNN error: %.2f\" % (100 - scores[1] * 100))"
   ]
  },
  {
   "cell_type": "code",
   "execution_count": null,
   "metadata": {},
   "outputs": [],
   "source": [
    "from PIL import Image\n",
    "from keras.datasets import mnist\n",
    "import numpy as np\n",
    "\n",
    "(X_train, y_train), (X_test, y_test) = mnist.load_data()\n",
    "for i in np.random.randint(0, 10000+1, 10):\n",
    "    arr2im = Image.fromarray(X_train[i])\n",
    "    arr2im.save(\"{}.png\".format(i), \"PNG\")\n",
    "    "
   ]
  }
 ],
 "metadata": {
  "kernelspec": {
   "display_name": "base",
   "language": "python",
   "name": "python3"
  },
  "language_info": {
   "codemirror_mode": {
    "name": "ipython",
    "version": 3
   },
   "file_extension": ".py",
   "mimetype": "text/x-python",
   "name": "python",
   "nbconvert_exporter": "python",
   "pygments_lexer": "ipython3",
   "version": "3.9.13"
  },
  "orig_nbformat": 4,
  "vscode": {
   "interpreter": {
    "hash": "bbfca51f72e015f3c291e5966e28b81ba404c59b90fcc5fd54f60c0220c34148"
   }
  }
 },
 "nbformat": 4,
 "nbformat_minor": 2
}
